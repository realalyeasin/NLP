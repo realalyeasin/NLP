{
  "nbformat": 4,
  "nbformat_minor": 0,
  "metadata": {
    "colab": {
      "name": "NLTK.ipynb",
      "provenance": [],
      "authorship_tag": "ABX9TyN5635pGCLqZ1ihn1pZjPGB",
      "include_colab_link": true
    },
    "kernelspec": {
      "name": "python3",
      "display_name": "Python 3"
    },
    "language_info": {
      "name": "python"
    }
  },
  "cells": [
    {
      "cell_type": "markdown",
      "metadata": {
        "id": "view-in-github",
        "colab_type": "text"
      },
      "source": [
        "<a href=\"https://colab.research.google.com/github/realalyeasin/NLP/blob/main/NLTK.ipynb\" target=\"_parent\"><img src=\"https://colab.research.google.com/assets/colab-badge.svg\" alt=\"Open In Colab\"/></a>"
      ]
    },
    {
      "cell_type": "code",
      "metadata": {
        "colab": {
          "base_uri": "https://localhost:8080/"
        },
        "id": "XzJeJHNwC17P",
        "outputId": "cb305d20-afbb-4106-c84a-523876d8fad1"
      },
      "source": [
        "import nltk\n",
        "from nltk.tokenize import word_tokenize, sent_tokenize\n",
        "nltk.download('punkt')"
      ],
      "execution_count": 9,
      "outputs": [
        {
          "output_type": "stream",
          "text": [
            "[nltk_data] Downloading package punkt to /root/nltk_data...\n",
            "[nltk_data]   Unzipping tokenizers/punkt.zip.\n"
          ],
          "name": "stdout"
        },
        {
          "output_type": "execute_result",
          "data": {
            "text/plain": [
              "True"
            ]
          },
          "metadata": {
            "tags": []
          },
          "execution_count": 9
        }
      ]
    },
    {
      "cell_type": "code",
      "metadata": {
        "id": "NLY1uY4lDEbF"
      },
      "source": [
        "exp_txt = \"Hi there, how are you? Do you like watching Mr. Bean?\""
      ],
      "execution_count": 10,
      "outputs": []
    },
    {
      "cell_type": "code",
      "metadata": {
        "colab": {
          "base_uri": "https://localhost:8080/"
        },
        "id": "Dr6zJoNpDefy",
        "outputId": "eb800827-cfd1-4409-b66c-06efa6d2d05b"
      },
      "source": [
        "for i in word_tokenize(exp_txt):\n",
        "  print(i)"
      ],
      "execution_count": 12,
      "outputs": [
        {
          "output_type": "stream",
          "text": [
            "Hi\n",
            "there\n",
            ",\n",
            "how\n",
            "are\n",
            "you\n",
            "?\n",
            "Do\n",
            "you\n",
            "like\n",
            "watching\n",
            "Mr.\n",
            "Bean\n",
            "?\n"
          ],
          "name": "stdout"
        }
      ]
    },
    {
      "cell_type": "code",
      "metadata": {
        "colab": {
          "base_uri": "https://localhost:8080/"
        },
        "id": "Duoizw27DpUB",
        "outputId": "b0e962ca-7de6-4e23-9c9c-077478fee1bc"
      },
      "source": [
        "for i in sent_tokenize(exp_txt):\n",
        "  print(i)"
      ],
      "execution_count": 13,
      "outputs": [
        {
          "output_type": "stream",
          "text": [
            "Hi there, how are you?\n",
            "Do you like watching Mr. Bean?\n"
          ],
          "name": "stdout"
        }
      ]
    }
  ]
}